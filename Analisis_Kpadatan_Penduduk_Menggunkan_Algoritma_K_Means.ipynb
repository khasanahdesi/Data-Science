{
  "nbformat": 4,
  "nbformat_minor": 0,
  "metadata": {
    "colab": {
      "provenance": [],
      "authorship_tag": "ABX9TyManyAua5tnw7B3DH45gaJf",
      "include_colab_link": true
    },
    "kernelspec": {
      "name": "python3",
      "display_name": "Python 3"
    },
    "language_info": {
      "name": "python"
    }
  },
  "cells": [
    {
      "cell_type": "markdown",
      "metadata": {
        "id": "view-in-github",
        "colab_type": "text"
      },
      "source": [
        "<a href=\"https://colab.research.google.com/github/khasanahdesi/Data-Science/blob/algoritmakmeans/Analisis_Kpadatan_Penduduk_Menggunkan_Algoritma_K_Means.ipynb\" target=\"_parent\"><img src=\"https://colab.research.google.com/assets/colab-badge.svg\" alt=\"Open In Colab\"/></a>"
      ]
    },
    {
      "cell_type": "markdown",
      "metadata": {
        "id": "6mksX8BN-rWZ"
      },
      "source": [
        "# Data Berdasarkan Jumlah Penduduk Per Kecamatan Pada Mei 2020 di Kabupaten Cilacap\n",
        "\n",
        "Studi kasus tingkat kepadatan penduduk berdasarkan jenis kelamin pada masing-masing kecamatan di Kabupaten Cilacap\n",
        "\n",
        "http://data.cilacapkab.go.id/dataset\n"
      ]
    },
    {
      "cell_type": "markdown",
      "metadata": {
        "id": "1gmwF3OnV7_A"
      },
      "source": [
        "# Import Library "
      ]
    },
    {
      "cell_type": "code",
      "metadata": {
        "id": "IAvlXyfIiri-"
      },
      "source": [
        "#import library untuk membantu dalam pengolahan data\n",
        "from sklearn.cluster import KMeans\n",
        "from sklearn import metrics\n",
        "from scipy.spatial.distance import cdist\n",
        "import numpy as np\n",
        "import pandas as pd\n",
        "from mpl_toolkits import mplot3d\n",
        "import matplotlib.pyplot as plt\n",
        "from sklearn.preprocessing import MinMaxScaler\n",
        "import seaborn as sns\n",
        "from sklearn import preprocessing\n",
        "from sklearn.cluster import KMeans"
      ],
      "execution_count": null,
      "outputs": []
    },
    {
      "cell_type": "code",
      "source": [],
      "metadata": {
        "id": "Xi99RAgV_pLq"
      },
      "execution_count": null,
      "outputs": []
    },
    {
      "cell_type": "markdown",
      "metadata": {
        "id": "QVWlwEymkGMq"
      },
      "source": [
        "# Tahapan Pre Processing Data"
      ]
    },
    {
      "cell_type": "code",
      "metadata": {
        "colab": {
          "base_uri": "https://localhost:8080/",
          "height": 793
        },
        "id": "DSo8ARlni8vF",
        "outputId": "776037b3-37e6-425f-e20a-98745b8a3996"
      },
      "source": [
        "#Membaca Dataset dan menampilkan dataset\n",
        "data = pd.read_excel(\"Penduduk Kabupaten Cilacap 2020-Mei.xlsx\")\n",
        "data"
      ],
      "execution_count": null,
      "outputs": [
        {
          "output_type": "execute_result",
          "data": {
            "text/html": [
              "<div>\n",
              "<style scoped>\n",
              "    .dataframe tbody tr th:only-of-type {\n",
              "        vertical-align: middle;\n",
              "    }\n",
              "\n",
              "    .dataframe tbody tr th {\n",
              "        vertical-align: top;\n",
              "    }\n",
              "\n",
              "    .dataframe thead th {\n",
              "        text-align: right;\n",
              "    }\n",
              "</style>\n",
              "<table border=\"1\" class=\"dataframe\">\n",
              "  <thead>\n",
              "    <tr style=\"text-align: right;\">\n",
              "      <th></th>\n",
              "      <th>No</th>\n",
              "      <th>Wilayah</th>\n",
              "      <th>L</th>\n",
              "      <th>P</th>\n",
              "      <th>Jumlah Penduduk</th>\n",
              "    </tr>\n",
              "  </thead>\n",
              "  <tbody>\n",
              "    <tr>\n",
              "      <th>0</th>\n",
              "      <td>1</td>\n",
              "      <td>KEDUNGREJA</td>\n",
              "      <td>44056</td>\n",
              "      <td>42873</td>\n",
              "      <td>86929</td>\n",
              "    </tr>\n",
              "    <tr>\n",
              "      <th>1</th>\n",
              "      <td>2</td>\n",
              "      <td>KESUGIHAN</td>\n",
              "      <td>66696</td>\n",
              "      <td>64587</td>\n",
              "      <td>131283</td>\n",
              "    </tr>\n",
              "    <tr>\n",
              "      <th>2</th>\n",
              "      <td>3</td>\n",
              "      <td>ADIPALA</td>\n",
              "      <td>47309</td>\n",
              "      <td>46000</td>\n",
              "      <td>93309</td>\n",
              "    </tr>\n",
              "    <tr>\n",
              "      <th>3</th>\n",
              "      <td>4</td>\n",
              "      <td>BINANGUN</td>\n",
              "      <td>34291</td>\n",
              "      <td>33635</td>\n",
              "      <td>67926</td>\n",
              "    </tr>\n",
              "    <tr>\n",
              "      <th>4</th>\n",
              "      <td>5</td>\n",
              "      <td>NUSAWUNGU</td>\n",
              "      <td>42873</td>\n",
              "      <td>41856</td>\n",
              "      <td>84729</td>\n",
              "    </tr>\n",
              "    <tr>\n",
              "      <th>5</th>\n",
              "      <td>6</td>\n",
              "      <td>KROYA</td>\n",
              "      <td>57687</td>\n",
              "      <td>56432</td>\n",
              "      <td>114119</td>\n",
              "    </tr>\n",
              "    <tr>\n",
              "      <th>6</th>\n",
              "      <td>7</td>\n",
              "      <td>MAOS</td>\n",
              "      <td>23291</td>\n",
              "      <td>23381</td>\n",
              "      <td>46672</td>\n",
              "    </tr>\n",
              "    <tr>\n",
              "      <th>7</th>\n",
              "      <td>8</td>\n",
              "      <td>JERUKLEGI</td>\n",
              "      <td>38089</td>\n",
              "      <td>37067</td>\n",
              "      <td>75156</td>\n",
              "    </tr>\n",
              "    <tr>\n",
              "      <th>8</th>\n",
              "      <td>9</td>\n",
              "      <td>KAWUNGANTEN</td>\n",
              "      <td>43099</td>\n",
              "      <td>41606</td>\n",
              "      <td>84705</td>\n",
              "    </tr>\n",
              "    <tr>\n",
              "      <th>9</th>\n",
              "      <td>10</td>\n",
              "      <td>GANDRUNGMANGU</td>\n",
              "      <td>55684</td>\n",
              "      <td>53647</td>\n",
              "      <td>109331</td>\n",
              "    </tr>\n",
              "    <tr>\n",
              "      <th>10</th>\n",
              "      <td>11</td>\n",
              "      <td>SIDAREJA</td>\n",
              "      <td>31235</td>\n",
              "      <td>31070</td>\n",
              "      <td>62305</td>\n",
              "    </tr>\n",
              "    <tr>\n",
              "      <th>11</th>\n",
              "      <td>12</td>\n",
              "      <td>KARANGPUCUNG</td>\n",
              "      <td>40681</td>\n",
              "      <td>39390</td>\n",
              "      <td>80071</td>\n",
              "    </tr>\n",
              "    <tr>\n",
              "      <th>12</th>\n",
              "      <td>13</td>\n",
              "      <td>CIMANGGU</td>\n",
              "      <td>53048</td>\n",
              "      <td>51164</td>\n",
              "      <td>104212</td>\n",
              "    </tr>\n",
              "    <tr>\n",
              "      <th>13</th>\n",
              "      <td>14</td>\n",
              "      <td>MAJENANG</td>\n",
              "      <td>69784</td>\n",
              "      <td>68692</td>\n",
              "      <td>138476</td>\n",
              "    </tr>\n",
              "    <tr>\n",
              "      <th>14</th>\n",
              "      <td>15</td>\n",
              "      <td>WANAREJA</td>\n",
              "      <td>52747</td>\n",
              "      <td>52024</td>\n",
              "      <td>104771</td>\n",
              "    </tr>\n",
              "    <tr>\n",
              "      <th>15</th>\n",
              "      <td>16</td>\n",
              "      <td>DAYEUHLUHUR</td>\n",
              "      <td>24314</td>\n",
              "      <td>24874</td>\n",
              "      <td>49188</td>\n",
              "    </tr>\n",
              "    <tr>\n",
              "      <th>16</th>\n",
              "      <td>17</td>\n",
              "      <td>SAMPANG</td>\n",
              "      <td>21568</td>\n",
              "      <td>21450</td>\n",
              "      <td>43018</td>\n",
              "    </tr>\n",
              "    <tr>\n",
              "      <th>17</th>\n",
              "      <td>18</td>\n",
              "      <td>CIPARI</td>\n",
              "      <td>33236</td>\n",
              "      <td>32372</td>\n",
              "      <td>65608</td>\n",
              "    </tr>\n",
              "    <tr>\n",
              "      <th>18</th>\n",
              "      <td>19</td>\n",
              "      <td>PATIMUAN</td>\n",
              "      <td>24836</td>\n",
              "      <td>24452</td>\n",
              "      <td>49288</td>\n",
              "    </tr>\n",
              "    <tr>\n",
              "      <th>19</th>\n",
              "      <td>20</td>\n",
              "      <td>BANTARSARI</td>\n",
              "      <td>37305</td>\n",
              "      <td>36126</td>\n",
              "      <td>73431</td>\n",
              "    </tr>\n",
              "    <tr>\n",
              "      <th>20</th>\n",
              "      <td>21</td>\n",
              "      <td>CILACAP SELATAN</td>\n",
              "      <td>42585</td>\n",
              "      <td>41964</td>\n",
              "      <td>84549</td>\n",
              "    </tr>\n",
              "    <tr>\n",
              "      <th>21</th>\n",
              "      <td>22</td>\n",
              "      <td>CILACAP TENGAH</td>\n",
              "      <td>45688</td>\n",
              "      <td>44802</td>\n",
              "      <td>90490</td>\n",
              "    </tr>\n",
              "    <tr>\n",
              "      <th>22</th>\n",
              "      <td>23</td>\n",
              "      <td>CILACAP UTARA</td>\n",
              "      <td>41512</td>\n",
              "      <td>40783</td>\n",
              "      <td>82295</td>\n",
              "    </tr>\n",
              "    <tr>\n",
              "      <th>23</th>\n",
              "      <td>24</td>\n",
              "      <td>KAMPUNG LAUT</td>\n",
              "      <td>8131</td>\n",
              "      <td>7435</td>\n",
              "      <td>15566</td>\n",
              "    </tr>\n",
              "  </tbody>\n",
              "</table>\n",
              "</div>"
            ],
            "text/plain": [
              "    No          Wilayah      L      P  Jumlah Penduduk\n",
              "0    1       KEDUNGREJA  44056  42873            86929\n",
              "1    2        KESUGIHAN  66696  64587           131283\n",
              "2    3          ADIPALA  47309  46000            93309\n",
              "3    4         BINANGUN  34291  33635            67926\n",
              "4    5        NUSAWUNGU  42873  41856            84729\n",
              "5    6            KROYA  57687  56432           114119\n",
              "6    7             MAOS  23291  23381            46672\n",
              "7    8        JERUKLEGI  38089  37067            75156\n",
              "8    9      KAWUNGANTEN  43099  41606            84705\n",
              "9   10    GANDRUNGMANGU  55684  53647           109331\n",
              "10  11         SIDAREJA  31235  31070            62305\n",
              "11  12     KARANGPUCUNG  40681  39390            80071\n",
              "12  13         CIMANGGU  53048  51164           104212\n",
              "13  14         MAJENANG  69784  68692           138476\n",
              "14  15         WANAREJA  52747  52024           104771\n",
              "15  16      DAYEUHLUHUR  24314  24874            49188\n",
              "16  17          SAMPANG  21568  21450            43018\n",
              "17  18           CIPARI  33236  32372            65608\n",
              "18  19         PATIMUAN  24836  24452            49288\n",
              "19  20       BANTARSARI  37305  36126            73431\n",
              "20  21  CILACAP SELATAN  42585  41964            84549\n",
              "21  22   CILACAP TENGAH  45688  44802            90490\n",
              "22  23    CILACAP UTARA  41512  40783            82295\n",
              "23  24     KAMPUNG LAUT   8131   7435            15566"
            ]
          },
          "metadata": {
            "tags": []
          },
          "execution_count": 3
        }
      ]
    },
    {
      "cell_type": "code",
      "metadata": {
        "colab": {
          "base_uri": "https://localhost:8080/"
        },
        "id": "3cO1CTefn2JH",
        "outputId": "0c319c8d-0cfe-4308-f459-4637446dc230"
      },
      "source": [
        "# MELAKUKAN PENGECEKAN MISSING VALUE PADA DATA\n",
        "\n",
        "data.isna().sum()"
      ],
      "execution_count": null,
      "outputs": [
        {
          "output_type": "execute_result",
          "data": {
            "text/plain": [
              "No                 0\n",
              "Wilayah            0\n",
              "L                  0\n",
              "P                  0\n",
              "Jumlah Penduduk    0\n",
              "dtype: int64"
            ]
          },
          "metadata": {
            "tags": []
          },
          "execution_count": 4
        }
      ]
    },
    {
      "cell_type": "markdown",
      "metadata": {
        "id": "5gJeW5scn--G"
      },
      "source": [
        "data penduduk diatas tidak terdapat missing value"
      ]
    },
    {
      "cell_type": "code",
      "metadata": {
        "colab": {
          "base_uri": "https://localhost:8080/",
          "height": 297
        },
        "id": "erUmC3Qijd6K",
        "outputId": "525dcc6a-8f49-4148-f75e-b1f9f739d649"
      },
      "source": [
        "#MELIHAT DISTRIBUSI DARI DATA\n",
        "\n",
        "data.describe()"
      ],
      "execution_count": null,
      "outputs": [
        {
          "output_type": "execute_result",
          "data": {
            "text/html": [
              "<div>\n",
              "<style scoped>\n",
              "    .dataframe tbody tr th:only-of-type {\n",
              "        vertical-align: middle;\n",
              "    }\n",
              "\n",
              "    .dataframe tbody tr th {\n",
              "        vertical-align: top;\n",
              "    }\n",
              "\n",
              "    .dataframe thead th {\n",
              "        text-align: right;\n",
              "    }\n",
              "</style>\n",
              "<table border=\"1\" class=\"dataframe\">\n",
              "  <thead>\n",
              "    <tr style=\"text-align: right;\">\n",
              "      <th></th>\n",
              "      <th>No</th>\n",
              "      <th>L</th>\n",
              "      <th>P</th>\n",
              "      <th>Jumlah Penduduk</th>\n",
              "    </tr>\n",
              "  </thead>\n",
              "  <tbody>\n",
              "    <tr>\n",
              "      <th>count</th>\n",
              "      <td>24.000000</td>\n",
              "      <td>24.000000</td>\n",
              "      <td>24.000000</td>\n",
              "      <td>24.000000</td>\n",
              "    </tr>\n",
              "    <tr>\n",
              "      <th>mean</th>\n",
              "      <td>12.500000</td>\n",
              "      <td>40822.708333</td>\n",
              "      <td>39903.416667</td>\n",
              "      <td>80726.125000</td>\n",
              "    </tr>\n",
              "    <tr>\n",
              "      <th>std</th>\n",
              "      <td>7.071068</td>\n",
              "      <td>14568.031351</td>\n",
              "      <td>14118.341428</td>\n",
              "      <td>28682.693586</td>\n",
              "    </tr>\n",
              "    <tr>\n",
              "      <th>min</th>\n",
              "      <td>1.000000</td>\n",
              "      <td>8131.000000</td>\n",
              "      <td>7435.000000</td>\n",
              "      <td>15566.000000</td>\n",
              "    </tr>\n",
              "    <tr>\n",
              "      <th>25%</th>\n",
              "      <td>6.750000</td>\n",
              "      <td>32735.750000</td>\n",
              "      <td>32046.500000</td>\n",
              "      <td>64782.250000</td>\n",
              "    </tr>\n",
              "    <tr>\n",
              "      <th>50%</th>\n",
              "      <td>12.500000</td>\n",
              "      <td>42048.500000</td>\n",
              "      <td>41194.500000</td>\n",
              "      <td>83422.000000</td>\n",
              "    </tr>\n",
              "    <tr>\n",
              "      <th>75%</th>\n",
              "      <td>18.250000</td>\n",
              "      <td>48668.500000</td>\n",
              "      <td>47291.000000</td>\n",
              "      <td>96034.750000</td>\n",
              "    </tr>\n",
              "    <tr>\n",
              "      <th>max</th>\n",
              "      <td>24.000000</td>\n",
              "      <td>69784.000000</td>\n",
              "      <td>68692.000000</td>\n",
              "      <td>138476.000000</td>\n",
              "    </tr>\n",
              "  </tbody>\n",
              "</table>\n",
              "</div>"
            ],
            "text/plain": [
              "              No             L             P  Jumlah Penduduk\n",
              "count  24.000000     24.000000     24.000000        24.000000\n",
              "mean   12.500000  40822.708333  39903.416667     80726.125000\n",
              "std     7.071068  14568.031351  14118.341428     28682.693586\n",
              "min     1.000000   8131.000000   7435.000000     15566.000000\n",
              "25%     6.750000  32735.750000  32046.500000     64782.250000\n",
              "50%    12.500000  42048.500000  41194.500000     83422.000000\n",
              "75%    18.250000  48668.500000  47291.000000     96034.750000\n",
              "max    24.000000  69784.000000  68692.000000    138476.000000"
            ]
          },
          "metadata": {
            "tags": []
          },
          "execution_count": 5
        }
      ]
    },
    {
      "cell_type": "code",
      "metadata": {
        "colab": {
          "base_uri": "https://localhost:8080/"
        },
        "id": "Pd_-4VVyyX8r",
        "outputId": "26ad3700-297a-4e65-fc9c-b7e76973c387"
      },
      "source": [
        "#Pengambilan data yang berupa angka\n",
        "\n",
        "X = np.array(data.iloc[:, 2:5])\n",
        "print(X)"
      ],
      "execution_count": null,
      "outputs": [
        {
          "output_type": "stream",
          "text": [
            "[[ 44056  42873  86929]\n",
            " [ 66696  64587 131283]\n",
            " [ 47309  46000  93309]\n",
            " [ 34291  33635  67926]\n",
            " [ 42873  41856  84729]\n",
            " [ 57687  56432 114119]\n",
            " [ 23291  23381  46672]\n",
            " [ 38089  37067  75156]\n",
            " [ 43099  41606  84705]\n",
            " [ 55684  53647 109331]\n",
            " [ 31235  31070  62305]\n",
            " [ 40681  39390  80071]\n",
            " [ 53048  51164 104212]\n",
            " [ 69784  68692 138476]\n",
            " [ 52747  52024 104771]\n",
            " [ 24314  24874  49188]\n",
            " [ 21568  21450  43018]\n",
            " [ 33236  32372  65608]\n",
            " [ 24836  24452  49288]\n",
            " [ 37305  36126  73431]\n",
            " [ 42585  41964  84549]\n",
            " [ 45688  44802  90490]\n",
            " [ 41512  40783  82295]\n",
            " [  8131   7435  15566]]\n"
          ],
          "name": "stdout"
        }
      ]
    },
    {
      "cell_type": "markdown",
      "metadata": {
        "id": "HRKsXaO0reeX"
      },
      "source": [
        "# PROSES SCALING DATA"
      ]
    },
    {
      "cell_type": "code",
      "metadata": {
        "colab": {
          "base_uri": "https://localhost:8080/"
        },
        "id": "Kc5JnOYPuDqy",
        "outputId": "dbfed266-5955-4ba5-a755-6594d5fe7bb2"
      },
      "source": [
        "#TAHAPAN DALAM MELAKUKAN NORMALISASI DATA MENGGUNAKAN MIN MAX SCALER\n",
        "scaler = MinMaxScaler()\n",
        "x_scaled=scaler.fit_transform(data.drop('Wilayah',axis=1))\n",
        "x_scaled"
      ],
      "execution_count": null,
      "outputs": [
        {
          "output_type": "execute_result",
          "data": {
            "text/plain": [
              "array([[0.        , 0.58269671, 0.57851348, 0.58061183],\n",
              "       [0.04347826, 0.94991322, 0.93298725, 0.9414775 ],\n",
              "       [0.08695652, 0.63545975, 0.6295607 , 0.63251973],\n",
              "       [0.13043478, 0.42431025, 0.42770622, 0.42600277],\n",
              "       [0.17391304, 0.56350867, 0.56191129, 0.56271255],\n",
              "       [0.2173913 , 0.80378895, 0.79985961, 0.80183061],\n",
              "       [0.26086957, 0.24589233, 0.26031311, 0.25307949],\n",
              "       [0.30434783, 0.48591309, 0.48373247, 0.4848263 ],\n",
              "       [0.34782609, 0.56717435, 0.55783013, 0.56251729],\n",
              "       [0.39130435, 0.77130067, 0.75439542, 0.76287527],\n",
              "       [0.43478261, 0.37474251, 0.38583346, 0.38027012],\n",
              "       [0.47826087, 0.52795484, 0.52165467, 0.52481491],\n",
              "       [0.52173913, 0.72854525, 0.71386127, 0.72122691],\n",
              "       [0.56521739, 1.        , 1.        , 1.        ],\n",
              "       [0.60869565, 0.72366308, 0.72790048, 0.72577496],\n",
              "       [0.65217391, 0.2624852 , 0.28468583, 0.27354975],\n",
              "       [0.69565217, 0.2179456 , 0.22879018, 0.22335042],\n",
              "       [0.73913043, 0.40719835, 0.40708817, 0.40714344],\n",
              "       [0.7826087 , 0.27095194, 0.27779682, 0.27436336],\n",
              "       [0.82608696, 0.47319676, 0.46837096, 0.47079164],\n",
              "       [0.86956522, 0.55883736, 0.56367436, 0.56124807],\n",
              "       [0.91304348, 0.60916744, 0.61000375, 0.60958425],\n",
              "       [0.95652174, 0.54143351, 0.54439493, 0.54290945],\n",
              "       [1.        , 0.        , 0.        , 0.        ]])"
            ]
          },
          "metadata": {
            "tags": []
          },
          "execution_count": 7
        }
      ]
    },
    {
      "cell_type": "markdown",
      "metadata": {
        "id": "tW-Gerb6x1t7"
      },
      "source": [
        "# Menentukan Jumlah Cluster yang akan digunakan untuk anaslisa data emnggunakan metode Elbow\n"
      ]
    },
    {
      "cell_type": "code",
      "metadata": {
        "colab": {
          "base_uri": "https://localhost:8080/",
          "height": 295
        },
        "id": "n9TdVc5dxHNd",
        "outputId": "c657271c-ae1a-47ed-ee0e-1f18155b8a2f"
      },
      "source": [
        "SSE =[] #menyimpan nilai k terbaik dengan melakukan perhitungan SSE\n",
        "K = range (1,10)\n",
        "for k in K:\n",
        "  kmeanModel = KMeans(n_clusters=k).fit(X) #pemodelan k-means\n",
        "  kmeanModel.fit(X) #proses clustering\n",
        "  SSE.append(sum(np.min(cdist(X, kmeanModel.cluster_centers_,'euclidean'),axis=1))/X.shape[0])\n",
        "\n",
        "#Menampilkan grafik elbow\n",
        "plt.plot(K,SSE,'-')\n",
        "plt.xlabel('Jumlah k')\n",
        "plt.ylabel('SSE')\n",
        "plt.title('Nilai K Optimal Pada Data Penduduk Cilacap Mei 2020')\n",
        "plt.show()"
      ],
      "execution_count": null,
      "outputs": [
        {
          "output_type": "display_data",
          "data": {
            "image/png": "[encoded data removed]",
            "text/plain": [
              "<Figure size 432x288 with 1 Axes>"
            ]
          },
          "metadata": {
            "tags": [],
            "needs_background": "light"
          }
        }
      ]
    },
    {
      "cell_type": "markdown",
      "metadata": {
        "id": "yCVWC09t15JY"
      },
      "source": [
        "berdasarkan grafik diatas yang menunjukan elbow atau siku terera pada k =3 dan k =6. Oleh karena itu diperoleh nilai cluster yang terbaik adalah k=6, karena semakin besar nilai k semakin semakin baik."
      ]
    },
    {
      "cell_type": "markdown",
      "metadata": {
        "id": "qQg0NhfD2tj5"
      },
      "source": [
        "# Melakukan KMeans klastering Menggunakan Nilai k = 6"
      ]
    },
    {
      "cell_type": "code",
      "metadata": {
        "colab": {
          "base_uri": "https://localhost:8080/"
        },
        "id": "az5viYaFyFo2",
        "outputId": "9993cfe1-3059-460d-96b5-591d10858853"
      },
      "source": [
        "# MENENTUKAN NILAI CETEROID UNTUK MASING-MASING CLUSTER\n",
        "model = KMeans(n_clusters=6, random_state=42).fit(x_scaled)\n",
        "print(model.cluster_centers_)\n"
      ],
      "execution_count": null,
      "outputs": [
        {
          "output_type": "stream",
          "text": [
            "[[0.89130435 0.54565877 0.546611   0.54613335]\n",
            " [0.2173913  0.54100252 0.53727271 0.53914362]\n",
            " [0.5942029  0.29653599 0.30741793 0.30195943]\n",
            " [0.52173913 0.80587725 0.79903929 0.80246929]\n",
            " [0.13043478 0.87685109 0.86642343 0.87165406]\n",
            " [1.         0.         0.         0.        ]]\n"
          ],
          "name": "stdout"
        }
      ]
    },
    {
      "cell_type": "code",
      "metadata": {
        "colab": {
          "base_uri": "https://localhost:8080/",
          "height": 793
        },
        "id": "7uKL-CKdl4qO",
        "outputId": "331623c9-989e-4f60-ef22-6d8b2d772cc0"
      },
      "source": [
        "# MEMPEROLEH KOLOM BARU BERUPA KOLOM CLUSTER\n",
        "data['cluster']=model.labels_\n",
        "data"
      ],
      "execution_count": null,
      "outputs": [
        {
          "output_type": "execute_result",
          "data": {
            "text/html": [
              "<div>\n",
              "<style scoped>\n",
              "    .dataframe tbody tr th:only-of-type {\n",
              "        vertical-align: middle;\n",
              "    }\n",
              "\n",
              "    .dataframe tbody tr th {\n",
              "        vertical-align: top;\n",
              "    }\n",
              "\n",
              "    .dataframe thead th {\n",
              "        text-align: right;\n",
              "    }\n",
              "</style>\n",
              "<table border=\"1\" class=\"dataframe\">\n",
              "  <thead>\n",
              "    <tr style=\"text-align: right;\">\n",
              "      <th></th>\n",
              "      <th>No</th>\n",
              "      <th>Wilayah</th>\n",
              "      <th>L</th>\n",
              "      <th>P</th>\n",
              "      <th>Jumlah Penduduk</th>\n",
              "      <th>cluster</th>\n",
              "    </tr>\n",
              "  </thead>\n",
              "  <tbody>\n",
              "    <tr>\n",
              "      <th>0</th>\n",
              "      <td>1</td>\n",
              "      <td>KEDUNGREJA</td>\n",
              "      <td>44056</td>\n",
              "      <td>42873</td>\n",
              "      <td>86929</td>\n",
              "      <td>1</td>\n",
              "    </tr>\n",
              "    <tr>\n",
              "      <th>1</th>\n",
              "      <td>2</td>\n",
              "      <td>KESUGIHAN</td>\n",
              "      <td>66696</td>\n",
              "      <td>64587</td>\n",
              "      <td>131283</td>\n",
              "      <td>4</td>\n",
              "    </tr>\n",
              "    <tr>\n",
              "      <th>2</th>\n",
              "      <td>3</td>\n",
              "      <td>ADIPALA</td>\n",
              "      <td>47309</td>\n",
              "      <td>46000</td>\n",
              "      <td>93309</td>\n",
              "      <td>1</td>\n",
              "    </tr>\n",
              "    <tr>\n",
              "      <th>3</th>\n",
              "      <td>4</td>\n",
              "      <td>BINANGUN</td>\n",
              "      <td>34291</td>\n",
              "      <td>33635</td>\n",
              "      <td>67926</td>\n",
              "      <td>1</td>\n",
              "    </tr>\n",
              "    <tr>\n",
              "      <th>4</th>\n",
              "      <td>5</td>\n",
              "      <td>NUSAWUNGU</td>\n",
              "      <td>42873</td>\n",
              "      <td>41856</td>\n",
              "      <td>84729</td>\n",
              "      <td>1</td>\n",
              "    </tr>\n",
              "    <tr>\n",
              "      <th>5</th>\n",
              "      <td>6</td>\n",
              "      <td>KROYA</td>\n",
              "      <td>57687</td>\n",
              "      <td>56432</td>\n",
              "      <td>114119</td>\n",
              "      <td>4</td>\n",
              "    </tr>\n",
              "    <tr>\n",
              "      <th>6</th>\n",
              "      <td>7</td>\n",
              "      <td>MAOS</td>\n",
              "      <td>23291</td>\n",
              "      <td>23381</td>\n",
              "      <td>46672</td>\n",
              "      <td>2</td>\n",
              "    </tr>\n",
              "    <tr>\n",
              "      <th>7</th>\n",
              "      <td>8</td>\n",
              "      <td>JERUKLEGI</td>\n",
              "      <td>38089</td>\n",
              "      <td>37067</td>\n",
              "      <td>75156</td>\n",
              "      <td>1</td>\n",
              "    </tr>\n",
              "    <tr>\n",
              "      <th>8</th>\n",
              "      <td>9</td>\n",
              "      <td>KAWUNGANTEN</td>\n",
              "      <td>43099</td>\n",
              "      <td>41606</td>\n",
              "      <td>84705</td>\n",
              "      <td>1</td>\n",
              "    </tr>\n",
              "    <tr>\n",
              "      <th>9</th>\n",
              "      <td>10</td>\n",
              "      <td>GANDRUNGMANGU</td>\n",
              "      <td>55684</td>\n",
              "      <td>53647</td>\n",
              "      <td>109331</td>\n",
              "      <td>3</td>\n",
              "    </tr>\n",
              "    <tr>\n",
              "      <th>10</th>\n",
              "      <td>11</td>\n",
              "      <td>SIDAREJA</td>\n",
              "      <td>31235</td>\n",
              "      <td>31070</td>\n",
              "      <td>62305</td>\n",
              "      <td>2</td>\n",
              "    </tr>\n",
              "    <tr>\n",
              "      <th>11</th>\n",
              "      <td>12</td>\n",
              "      <td>KARANGPUCUNG</td>\n",
              "      <td>40681</td>\n",
              "      <td>39390</td>\n",
              "      <td>80071</td>\n",
              "      <td>1</td>\n",
              "    </tr>\n",
              "    <tr>\n",
              "      <th>12</th>\n",
              "      <td>13</td>\n",
              "      <td>CIMANGGU</td>\n",
              "      <td>53048</td>\n",
              "      <td>51164</td>\n",
              "      <td>104212</td>\n",
              "      <td>3</td>\n",
              "    </tr>\n",
              "    <tr>\n",
              "      <th>13</th>\n",
              "      <td>14</td>\n",
              "      <td>MAJENANG</td>\n",
              "      <td>69784</td>\n",
              "      <td>68692</td>\n",
              "      <td>138476</td>\n",
              "      <td>3</td>\n",
              "    </tr>\n",
              "    <tr>\n",
              "      <th>14</th>\n",
              "      <td>15</td>\n",
              "      <td>WANAREJA</td>\n",
              "      <td>52747</td>\n",
              "      <td>52024</td>\n",
              "      <td>104771</td>\n",
              "      <td>3</td>\n",
              "    </tr>\n",
              "    <tr>\n",
              "      <th>15</th>\n",
              "      <td>16</td>\n",
              "      <td>DAYEUHLUHUR</td>\n",
              "      <td>24314</td>\n",
              "      <td>24874</td>\n",
              "      <td>49188</td>\n",
              "      <td>2</td>\n",
              "    </tr>\n",
              "    <tr>\n",
              "      <th>16</th>\n",
              "      <td>17</td>\n",
              "      <td>SAMPANG</td>\n",
              "      <td>21568</td>\n",
              "      <td>21450</td>\n",
              "      <td>43018</td>\n",
              "      <td>2</td>\n",
              "    </tr>\n",
              "    <tr>\n",
              "      <th>17</th>\n",
              "      <td>18</td>\n",
              "      <td>CIPARI</td>\n",
              "      <td>33236</td>\n",
              "      <td>32372</td>\n",
              "      <td>65608</td>\n",
              "      <td>2</td>\n",
              "    </tr>\n",
              "    <tr>\n",
              "      <th>18</th>\n",
              "      <td>19</td>\n",
              "      <td>PATIMUAN</td>\n",
              "      <td>24836</td>\n",
              "      <td>24452</td>\n",
              "      <td>49288</td>\n",
              "      <td>2</td>\n",
              "    </tr>\n",
              "    <tr>\n",
              "      <th>19</th>\n",
              "      <td>20</td>\n",
              "      <td>BANTARSARI</td>\n",
              "      <td>37305</td>\n",
              "      <td>36126</td>\n",
              "      <td>73431</td>\n",
              "      <td>0</td>\n",
              "    </tr>\n",
              "    <tr>\n",
              "      <th>20</th>\n",
              "      <td>21</td>\n",
              "      <td>CILACAP SELATAN</td>\n",
              "      <td>42585</td>\n",
              "      <td>41964</td>\n",
              "      <td>84549</td>\n",
              "      <td>0</td>\n",
              "    </tr>\n",
              "    <tr>\n",
              "      <th>21</th>\n",
              "      <td>22</td>\n",
              "      <td>CILACAP TENGAH</td>\n",
              "      <td>45688</td>\n",
              "      <td>44802</td>\n",
              "      <td>90490</td>\n",
              "      <td>0</td>\n",
              "    </tr>\n",
              "    <tr>\n",
              "      <th>22</th>\n",
              "      <td>23</td>\n",
              "      <td>CILACAP UTARA</td>\n",
              "      <td>41512</td>\n",
              "      <td>40783</td>\n",
              "      <td>82295</td>\n",
              "      <td>0</td>\n",
              "    </tr>\n",
              "    <tr>\n",
              "      <th>23</th>\n",
              "      <td>24</td>\n",
              "      <td>KAMPUNG LAUT</td>\n",
              "      <td>8131</td>\n",
              "      <td>7435</td>\n",
              "      <td>15566</td>\n",
              "      <td>5</td>\n",
              "    </tr>\n",
              "  </tbody>\n",
              "</table>\n",
              "</div>"
            ],
            "text/plain": [
              "    No          Wilayah      L      P  Jumlah Penduduk  cluster\n",
              "0    1       KEDUNGREJA  44056  42873            86929        1\n",
              "1    2        KESUGIHAN  66696  64587           131283        4\n",
              "2    3          ADIPALA  47309  46000            93309        1\n",
              "3    4         BINANGUN  34291  33635            67926        1\n",
              "4    5        NUSAWUNGU  42873  41856            84729        1\n",
              "5    6            KROYA  57687  56432           114119        4\n",
              "6    7             MAOS  23291  23381            46672        2\n",
              "7    8        JERUKLEGI  38089  37067            75156        1\n",
              "8    9      KAWUNGANTEN  43099  41606            84705        1\n",
              "9   10    GANDRUNGMANGU  55684  53647           109331        3\n",
              "10  11         SIDAREJA  31235  31070            62305        2\n",
              "11  12     KARANGPUCUNG  40681  39390            80071        1\n",
              "12  13         CIMANGGU  53048  51164           104212        3\n",
              "13  14         MAJENANG  69784  68692           138476        3\n",
              "14  15         WANAREJA  52747  52024           104771        3\n",
              "15  16      DAYEUHLUHUR  24314  24874            49188        2\n",
              "16  17          SAMPANG  21568  21450            43018        2\n",
              "17  18           CIPARI  33236  32372            65608        2\n",
              "18  19         PATIMUAN  24836  24452            49288        2\n",
              "19  20       BANTARSARI  37305  36126            73431        0\n",
              "20  21  CILACAP SELATAN  42585  41964            84549        0\n",
              "21  22   CILACAP TENGAH  45688  44802            90490        0\n",
              "22  23    CILACAP UTARA  41512  40783            82295        0\n",
              "23  24     KAMPUNG LAUT   8131   7435            15566        5"
            ]
          },
          "metadata": {
            "tags": []
          },
          "execution_count": 10
        }
      ]
    },
    {
      "cell_type": "code",
      "metadata": {
        "colab": {
          "base_uri": "https://localhost:8080/",
          "height": 258
        },
        "id": "qt8gEjrGOq1H",
        "outputId": "32cebdac-0a4e-4c56-b690-564247aa3e70"
      },
      "source": [
        "#Visualisasi data\n",
        "\n",
        "x1 = np.array(data.iloc[:,2])\n",
        "x2 = np.array(data.iloc[:,3])\n",
        "x3 = np.array(data.iloc[:,4])\n",
        "cluster = np.array(data.iloc[:,5])\n",
        "\n",
        "ax = plt.axes(projection='3d')\n",
        "sc=ax.scatter(x1,x2,x3, s=200,c=cluster, cmap='viridis')\n",
        "ax.set_xlabel('L')\n",
        "ax.set_ylabel('P')\n",
        "ax.set_zlabel('Jumlah Penduduk')\n",
        "cbar = plt.colorbar(sc)\n",
        "cbar.set_label(\"Cluster\")\n",
        "plt.title('Hasil Clustering K-Means')\n",
        "plt.show()"
      ],
      "execution_count": null,
      "outputs": [
        {
          "output_type": "display_data",
          "data": {
            "image/png": "[encoded data removed]",
            "text/plain": [
              "<Figure size 432x288 with 2 Axes>"
            ]
          },
          "metadata": {
            "tags": [],
            "needs_background": "light"
          }
        }
      ]
    },
    {
      "cell_type": "markdown",
      "metadata": {
        "id": "JFAg3XSPuODP"
      },
      "source": [
        "Berdasarkan hasil visualisasi data diatas berdasarkan nilai k=6 memeproleh kelompok cluster sebanyak 6 cluster dengan kepadatan penduduk paling banyak adalah cluster 1. Dataset ini termasuk datset yang tidak homogen. karena masih terdpat kelompok data yang bergabung dengan kelompok cluster yang lain "
      ]
    },
    {
      "cell_type": "code",
      "metadata": {
        "colab": {
          "base_uri": "https://localhost:8080/"
        },
        "id": "2YChR-RQ6b8-",
        "outputId": "300d409f-82e0-46b2-ac61-0a8ac0f51876"
      },
      "source": [
        "# MENENTUKAN NILAI CETEROID UNTUK MASING-MASING CLUSTER\n",
        "model = KMeans(n_clusters=3, random_state=42).fit(x_scaled)\n",
        "print(model.cluster_centers_)\n"
      ],
      "execution_count": null,
      "outputs": [
        {
          "output_type": "stream",
          "text": [
            "[[0.39130435 0.82953519 0.82150067 0.82553088]\n",
            " [0.24637681 0.48973917 0.48967284 0.48970611]\n",
            " [0.82608696 0.37124624 0.37608944 0.37366004]]\n"
          ],
          "name": "stdout"
        }
      ]
    },
    {
      "cell_type": "code",
      "metadata": {
        "colab": {
          "base_uri": "https://localhost:8080/",
          "height": 793
        },
        "id": "FmaiMKhF6iXL",
        "outputId": "e481bd12-6823-43e5-ce37-e755f0a89290"
      },
      "source": [
        "# MEMPEROLEH KOLOM BARU BERUPA KOLOM CLUSTER\n",
        "data['cluster']=model.labels_\n",
        "data"
      ],
      "execution_count": null,
      "outputs": [
        {
          "output_type": "execute_result",
          "data": {
            "text/html": [
              "<div>\n",
              "<style scoped>\n",
              "    .dataframe tbody tr th:only-of-type {\n",
              "        vertical-align: middle;\n",
              "    }\n",
              "\n",
              "    .dataframe tbody tr th {\n",
              "        vertical-align: top;\n",
              "    }\n",
              "\n",
              "    .dataframe thead th {\n",
              "        text-align: right;\n",
              "    }\n",
              "</style>\n",
              "<table border=\"1\" class=\"dataframe\">\n",
              "  <thead>\n",
              "    <tr style=\"text-align: right;\">\n",
              "      <th></th>\n",
              "      <th>No</th>\n",
              "      <th>Wilayah</th>\n",
              "      <th>L</th>\n",
              "      <th>P</th>\n",
              "      <th>Jumlah Penduduk</th>\n",
              "      <th>cluster</th>\n",
              "    </tr>\n",
              "  </thead>\n",
              "  <tbody>\n",
              "    <tr>\n",
              "      <th>0</th>\n",
              "      <td>1</td>\n",
              "      <td>KEDUNGREJA</td>\n",
              "      <td>44056</td>\n",
              "      <td>42873</td>\n",
              "      <td>86929</td>\n",
              "      <td>1</td>\n",
              "    </tr>\n",
              "    <tr>\n",
              "      <th>1</th>\n",
              "      <td>2</td>\n",
              "      <td>KESUGIHAN</td>\n",
              "      <td>66696</td>\n",
              "      <td>64587</td>\n",
              "      <td>131283</td>\n",
              "      <td>0</td>\n",
              "    </tr>\n",
              "    <tr>\n",
              "      <th>2</th>\n",
              "      <td>3</td>\n",
              "      <td>ADIPALA</td>\n",
              "      <td>47309</td>\n",
              "      <td>46000</td>\n",
              "      <td>93309</td>\n",
              "      <td>1</td>\n",
              "    </tr>\n",
              "    <tr>\n",
              "      <th>3</th>\n",
              "      <td>4</td>\n",
              "      <td>BINANGUN</td>\n",
              "      <td>34291</td>\n",
              "      <td>33635</td>\n",
              "      <td>67926</td>\n",
              "      <td>1</td>\n",
              "    </tr>\n",
              "    <tr>\n",
              "      <th>4</th>\n",
              "      <td>5</td>\n",
              "      <td>NUSAWUNGU</td>\n",
              "      <td>42873</td>\n",
              "      <td>41856</td>\n",
              "      <td>84729</td>\n",
              "      <td>1</td>\n",
              "    </tr>\n",
              "    <tr>\n",
              "      <th>5</th>\n",
              "      <td>6</td>\n",
              "      <td>KROYA</td>\n",
              "      <td>57687</td>\n",
              "      <td>56432</td>\n",
              "      <td>114119</td>\n",
              "      <td>0</td>\n",
              "    </tr>\n",
              "    <tr>\n",
              "      <th>6</th>\n",
              "      <td>7</td>\n",
              "      <td>MAOS</td>\n",
              "      <td>23291</td>\n",
              "      <td>23381</td>\n",
              "      <td>46672</td>\n",
              "      <td>1</td>\n",
              "    </tr>\n",
              "    <tr>\n",
              "      <th>7</th>\n",
              "      <td>8</td>\n",
              "      <td>JERUKLEGI</td>\n",
              "      <td>38089</td>\n",
              "      <td>37067</td>\n",
              "      <td>75156</td>\n",
              "      <td>1</td>\n",
              "    </tr>\n",
              "    <tr>\n",
              "      <th>8</th>\n",
              "      <td>9</td>\n",
              "      <td>KAWUNGANTEN</td>\n",
              "      <td>43099</td>\n",
              "      <td>41606</td>\n",
              "      <td>84705</td>\n",
              "      <td>1</td>\n",
              "    </tr>\n",
              "    <tr>\n",
              "      <th>9</th>\n",
              "      <td>10</td>\n",
              "      <td>GANDRUNGMANGU</td>\n",
              "      <td>55684</td>\n",
              "      <td>53647</td>\n",
              "      <td>109331</td>\n",
              "      <td>0</td>\n",
              "    </tr>\n",
              "    <tr>\n",
              "      <th>10</th>\n",
              "      <td>11</td>\n",
              "      <td>SIDAREJA</td>\n",
              "      <td>31235</td>\n",
              "      <td>31070</td>\n",
              "      <td>62305</td>\n",
              "      <td>1</td>\n",
              "    </tr>\n",
              "    <tr>\n",
              "      <th>11</th>\n",
              "      <td>12</td>\n",
              "      <td>KARANGPUCUNG</td>\n",
              "      <td>40681</td>\n",
              "      <td>39390</td>\n",
              "      <td>80071</td>\n",
              "      <td>1</td>\n",
              "    </tr>\n",
              "    <tr>\n",
              "      <th>12</th>\n",
              "      <td>13</td>\n",
              "      <td>CIMANGGU</td>\n",
              "      <td>53048</td>\n",
              "      <td>51164</td>\n",
              "      <td>104212</td>\n",
              "      <td>0</td>\n",
              "    </tr>\n",
              "    <tr>\n",
              "      <th>13</th>\n",
              "      <td>14</td>\n",
              "      <td>MAJENANG</td>\n",
              "      <td>69784</td>\n",
              "      <td>68692</td>\n",
              "      <td>138476</td>\n",
              "      <td>0</td>\n",
              "    </tr>\n",
              "    <tr>\n",
              "      <th>14</th>\n",
              "      <td>15</td>\n",
              "      <td>WANAREJA</td>\n",
              "      <td>52747</td>\n",
              "      <td>52024</td>\n",
              "      <td>104771</td>\n",
              "      <td>0</td>\n",
              "    </tr>\n",
              "    <tr>\n",
              "      <th>15</th>\n",
              "      <td>16</td>\n",
              "      <td>DAYEUHLUHUR</td>\n",
              "      <td>24314</td>\n",
              "      <td>24874</td>\n",
              "      <td>49188</td>\n",
              "      <td>2</td>\n",
              "    </tr>\n",
              "    <tr>\n",
              "      <th>16</th>\n",
              "      <td>17</td>\n",
              "      <td>SAMPANG</td>\n",
              "      <td>21568</td>\n",
              "      <td>21450</td>\n",
              "      <td>43018</td>\n",
              "      <td>2</td>\n",
              "    </tr>\n",
              "    <tr>\n",
              "      <th>17</th>\n",
              "      <td>18</td>\n",
              "      <td>CIPARI</td>\n",
              "      <td>33236</td>\n",
              "      <td>32372</td>\n",
              "      <td>65608</td>\n",
              "      <td>2</td>\n",
              "    </tr>\n",
              "    <tr>\n",
              "      <th>18</th>\n",
              "      <td>19</td>\n",
              "      <td>PATIMUAN</td>\n",
              "      <td>24836</td>\n",
              "      <td>24452</td>\n",
              "      <td>49288</td>\n",
              "      <td>2</td>\n",
              "    </tr>\n",
              "    <tr>\n",
              "      <th>19</th>\n",
              "      <td>20</td>\n",
              "      <td>BANTARSARI</td>\n",
              "      <td>37305</td>\n",
              "      <td>36126</td>\n",
              "      <td>73431</td>\n",
              "      <td>2</td>\n",
              "    </tr>\n",
              "    <tr>\n",
              "      <th>20</th>\n",
              "      <td>21</td>\n",
              "      <td>CILACAP SELATAN</td>\n",
              "      <td>42585</td>\n",
              "      <td>41964</td>\n",
              "      <td>84549</td>\n",
              "      <td>2</td>\n",
              "    </tr>\n",
              "    <tr>\n",
              "      <th>21</th>\n",
              "      <td>22</td>\n",
              "      <td>CILACAP TENGAH</td>\n",
              "      <td>45688</td>\n",
              "      <td>44802</td>\n",
              "      <td>90490</td>\n",
              "      <td>2</td>\n",
              "    </tr>\n",
              "    <tr>\n",
              "      <th>22</th>\n",
              "      <td>23</td>\n",
              "      <td>CILACAP UTARA</td>\n",
              "      <td>41512</td>\n",
              "      <td>40783</td>\n",
              "      <td>82295</td>\n",
              "      <td>2</td>\n",
              "    </tr>\n",
              "    <tr>\n",
              "      <th>23</th>\n",
              "      <td>24</td>\n",
              "      <td>KAMPUNG LAUT</td>\n",
              "      <td>8131</td>\n",
              "      <td>7435</td>\n",
              "      <td>15566</td>\n",
              "      <td>2</td>\n",
              "    </tr>\n",
              "  </tbody>\n",
              "</table>\n",
              "</div>"
            ],
            "text/plain": [
              "    No          Wilayah      L      P  Jumlah Penduduk  cluster\n",
              "0    1       KEDUNGREJA  44056  42873            86929        1\n",
              "1    2        KESUGIHAN  66696  64587           131283        0\n",
              "2    3          ADIPALA  47309  46000            93309        1\n",
              "3    4         BINANGUN  34291  33635            67926        1\n",
              "4    5        NUSAWUNGU  42873  41856            84729        1\n",
              "5    6            KROYA  57687  56432           114119        0\n",
              "6    7             MAOS  23291  23381            46672        1\n",
              "7    8        JERUKLEGI  38089  37067            75156        1\n",
              "8    9      KAWUNGANTEN  43099  41606            84705        1\n",
              "9   10    GANDRUNGMANGU  55684  53647           109331        0\n",
              "10  11         SIDAREJA  31235  31070            62305        1\n",
              "11  12     KARANGPUCUNG  40681  39390            80071        1\n",
              "12  13         CIMANGGU  53048  51164           104212        0\n",
              "13  14         MAJENANG  69784  68692           138476        0\n",
              "14  15         WANAREJA  52747  52024           104771        0\n",
              "15  16      DAYEUHLUHUR  24314  24874            49188        2\n",
              "16  17          SAMPANG  21568  21450            43018        2\n",
              "17  18           CIPARI  33236  32372            65608        2\n",
              "18  19         PATIMUAN  24836  24452            49288        2\n",
              "19  20       BANTARSARI  37305  36126            73431        2\n",
              "20  21  CILACAP SELATAN  42585  41964            84549        2\n",
              "21  22   CILACAP TENGAH  45688  44802            90490        2\n",
              "22  23    CILACAP UTARA  41512  40783            82295        2\n",
              "23  24     KAMPUNG LAUT   8131   7435            15566        2"
            ]
          },
          "metadata": {
            "tags": []
          },
          "execution_count": 13
        }
      ]
    },
    {
      "cell_type": "code",
      "metadata": {
        "colab": {
          "base_uri": "https://localhost:8080/",
          "height": 258
        },
        "id": "DY9zIa4pR0xs",
        "outputId": "609c0ea7-4b11-4b90-bfb5-3705e8d1b8f5"
      },
      "source": [
        "#Visualisasi data\n",
        "\n",
        "x1 = np.array(data.iloc[:,2])\n",
        "x2 = np.array(data.iloc[:,3])\n",
        "x3 = np.array(data.iloc[:,4])\n",
        "cluster = np.array(data.iloc[:,5])\n",
        "\n",
        "ax = plt.axes(projection='3d')\n",
        "sc=ax.scatter(x1,x2,x3, s=200,c=cluster, cmap='viridis')\n",
        "ax.set_xlabel('L')\n",
        "ax.set_ylabel('P')\n",
        "ax.set_zlabel('Jumlah Penduduk')\n",
        "cbar = plt.colorbar(sc)\n",
        "cbar.set_label(\"Cluster\")\n",
        "plt.title('Hasil Clustering K-Means')\n",
        "plt.show()"
      ],
      "execution_count": null,
      "outputs": [
        {
          "output_type": "display_data",
          "data": {
            "image/png": "[encoded data removed]",
            "text/plain": [
              "<Figure size 432x288 with 2 Axes>"
            ]
          },
          "metadata": {
            "tags": [],
            "needs_background": "light"
          }
        }
      ]
    },
    {
      "cell_type": "markdown",
      "metadata": {
        "id": "3cB6MvcOPq0T"
      },
      "source": [
        "Berdasarkan hasil visualisasi data diatas berdasarkan nilai k=3 memeproleh kelompok cluster sebanyak 3 cluster dengan kepadatan penduduk paling banyak adalah cluster 1 dan 2. Dataset ini termasuk datset yang tidak homogen. karena masih terdpat kelompok data yang bergabung dengan kelompok cluster yang lain"
      ]
    },
    {
      "cell_type": "code",
      "metadata": {
        "id": "33rw0o3DLyWb"
      },
      "source": [],
      "execution_count": null,
      "outputs": []
    }
  ]
}